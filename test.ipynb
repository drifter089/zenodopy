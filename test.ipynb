{
 "cells": [
  {
   "cell_type": "code",
   "execution_count": 1,
   "metadata": {},
   "outputs": [
    {
     "name": "stdout",
     "output_type": "stream",
     "text": [
      "Project Name ---- ID ---- Status ---- Latest Published ID\n",
      "---------------------------------------------------------\n",
      "test_project ---- 99426 ---- unpublished ---- None\n",
      "test_project ---- 99424 ---- unpublished ---- None\n",
      "test_project ---- 99422 ---- unpublished ---- None\n",
      "test_project ---- 99420 ---- unpublished ---- None\n",
      " ---- 99299 ---- unpublished ---- None\n",
      "test.file.txt successfully uploaded!\n",
      "Files\n",
      "------------------------\n",
      "test.file.txt\n"
     ]
    }
   ],
   "source": [
    "import zenodopy\n",
    "\n",
    "# always start by creating a Client object\n",
    "zeno = zenodopy.Client(sandbox=True)\n",
    "\n",
    "# zeno.change_metadata(title=\"my test file\",\n",
    "#                         upload_type=\"text\",\n",
    "#                         description=\"Eu reprehenderit non et mollit excepteur nisi laborum labore sit ex ipsum ullamco id. Aute qui fugiat in aute. In quis aute enim cupidatat laborum qui voluptate anim Lorem nulla sint do.\",\n",
    "#                         creator=\"akshat\")\n",
    "# list project id's associated to zenodo account\n",
    "zeno.list_projects\n",
    "\n",
    "# create a project\n",
    "zeno.create_project(title=\"test_project\", upload_type=\"other\")\n",
    "# your zeno object now points to this newly created project\n",
    "\n",
    "# # create a file to upload\n",
    "# with open(\"~/test_file.txt\", \"w+\") as f:\n",
    "#     f.write(\"Hello from zenodopy\")\n",
    "\n",
    "\n",
    "\n",
    "\n",
    "# upload file to zenodo\n",
    "zeno.upload_file(\"test.file.txt\")\n",
    "zeno.upload_file(\"test.file.txt\")\n",
    "100089\n",
    "# list files of project\n",
    "zeno.list_files\n",
    "\n",
    "# # set project to other project id's\n",
    "# zeno.set_project(\"<id>\")\n",
    "\n",
    "# # delete project\n",
    "# zeno._delete_project(dep_id=\"<id>\")"
   ]
  },
  {
   "cell_type": "code",
   "execution_count": 2,
   "metadata": {},
   "outputs": [
    {
     "name": "stdout",
     "output_type": "stream",
     "text": [
      "Project Name ---- ID ---- Status ---- Latest Published ID\n",
      "---------------------------------------------------------\n",
      "test_project ---- 99445 ---- unpublished ---- None\n",
      "test_project ---- 99426 ---- unpublished ---- None\n",
      "test_project ---- 99424 ---- unpublished ---- None\n",
      "test_project ---- 99422 ---- unpublished ---- None\n",
      "test_project ---- 99420 ---- unpublished ---- None\n",
      " ---- 99299 ---- unpublished ---- None\n",
      "test.file.txt successfully uploaded!\n",
      "Files\n",
      "------------------------\n",
      "test.file.txt\n"
     ]
    }
   ],
   "source": [
    "import zenodopy\n",
    "\n",
    "# always start by creating a Client object\n",
    "zeno = zenodopy.Client(sandbox=True)\n",
    "\n",
    "zeno.list_projects\n",
    "\n",
    "# create a project\n",
    "zeno.create_project(title=\"test_project\", upload_type=\"other\")\n",
    "zeno.upload_file(\"test.file.txt\")\n",
    "\n",
    "# list files of project\n",
    "zeno.list_files\n"
   ]
  }
 ],
 "metadata": {
  "kernelspec": {
   "display_name": "pypsa-eur",
   "language": "python",
   "name": "python3"
  },
  "language_info": {
   "codemirror_mode": {
    "name": "ipython",
    "version": 3
   },
   "file_extension": ".py",
   "mimetype": "text/x-python",
   "name": "python",
   "nbconvert_exporter": "python",
   "pygments_lexer": "ipython3",
   "version": "3.9.19"
  }
 },
 "nbformat": 4,
 "nbformat_minor": 2
}
